{
  "nbformat": 4,
  "nbformat_minor": 0,
  "metadata": {
    "colab": {
      "provenance": [],
      "authorship_tag": "ABX9TyMmPC1EL5+TqdZHgfJqKTzp",
      "include_colab_link": true
    },
    "kernelspec": {
      "name": "python3",
      "display_name": "Python 3"
    },
    "language_info": {
      "name": "python"
    }
  },
  "cells": [
    {
      "cell_type": "markdown",
      "metadata": {
        "id": "view-in-github",
        "colab_type": "text"
      },
      "source": [
        "<a href=\"https://colab.research.google.com/github/001hazel/Math-152/blob/main/Muon_Physics_Data_Analysis.ipynb\" target=\"_parent\"><img src=\"https://colab.research.google.com/assets/colab-badge.svg\" alt=\"Open In Colab\"/></a>"
      ]
    },
    {
      "cell_type": "code",
      "execution_count": null,
      "metadata": {
        "id": "RH0kUkRvqK4P"
      },
      "outputs": [],
      "source": []
    },
    {
      "cell_type": "markdown",
      "source": [
        "## Muon Lifetime Data Analysis\n",
        "\n",
        "In the experiment we measured detected lifetimes of muons moving through a scintillator. These measured lifetimes are to be binned into data and fitted to a model of the from:\n",
        "\n",
        "$ y(t_{j}) = Ae^{-t_{j}/τ} + B$"
      ],
      "metadata": {
        "id": "wx2HX_5tqQyn"
      }
    },
    {
      "cell_type": "code",
      "source": [
        "import numpy as np\n",
        "import matplotlib.pyplot as plt"
      ],
      "metadata": {
        "id": "Bgbu6J0Fq3Z8"
      },
      "execution_count": 2,
      "outputs": []
    },
    {
      "cell_type": "code",
      "source": [
        "from google.colab import files\n",
        "uploaded = files.upload()"
      ],
      "metadata": {
        "colab": {
          "base_uri": "https://localhost:8080/",
          "height": 73
        },
        "id": "Ds8B2LoQvEUa",
        "outputId": "747a01c9-a21f-4d93-ef77-603e61249c2e"
      },
      "execution_count": 5,
      "outputs": [
        {
          "output_type": "display_data",
          "data": {
            "text/plain": [
              "<IPython.core.display.HTML object>"
            ],
            "text/html": [
              "\n",
              "     <input type=\"file\" id=\"files-34b59705-301f-4b8c-bf84-3b5623acb8b2\" name=\"files[]\" multiple disabled\n",
              "        style=\"border:none\" />\n",
              "     <output id=\"result-34b59705-301f-4b8c-bf84-3b5623acb8b2\">\n",
              "      Upload widget is only available when the cell has been executed in the\n",
              "      current browser session. Please rerun this cell to enable.\n",
              "      </output>\n",
              "      <script>// Copyright 2017 Google LLC\n",
              "//\n",
              "// Licensed under the Apache License, Version 2.0 (the \"License\");\n",
              "// you may not use this file except in compliance with the License.\n",
              "// You may obtain a copy of the License at\n",
              "//\n",
              "//      http://www.apache.org/licenses/LICENSE-2.0\n",
              "//\n",
              "// Unless required by applicable law or agreed to in writing, software\n",
              "// distributed under the License is distributed on an \"AS IS\" BASIS,\n",
              "// WITHOUT WARRANTIES OR CONDITIONS OF ANY KIND, either express or implied.\n",
              "// See the License for the specific language governing permissions and\n",
              "// limitations under the License.\n",
              "\n",
              "/**\n",
              " * @fileoverview Helpers for google.colab Python module.\n",
              " */\n",
              "(function(scope) {\n",
              "function span(text, styleAttributes = {}) {\n",
              "  const element = document.createElement('span');\n",
              "  element.textContent = text;\n",
              "  for (const key of Object.keys(styleAttributes)) {\n",
              "    element.style[key] = styleAttributes[key];\n",
              "  }\n",
              "  return element;\n",
              "}\n",
              "\n",
              "// Max number of bytes which will be uploaded at a time.\n",
              "const MAX_PAYLOAD_SIZE = 100 * 1024;\n",
              "\n",
              "function _uploadFiles(inputId, outputId) {\n",
              "  const steps = uploadFilesStep(inputId, outputId);\n",
              "  const outputElement = document.getElementById(outputId);\n",
              "  // Cache steps on the outputElement to make it available for the next call\n",
              "  // to uploadFilesContinue from Python.\n",
              "  outputElement.steps = steps;\n",
              "\n",
              "  return _uploadFilesContinue(outputId);\n",
              "}\n",
              "\n",
              "// This is roughly an async generator (not supported in the browser yet),\n",
              "// where there are multiple asynchronous steps and the Python side is going\n",
              "// to poll for completion of each step.\n",
              "// This uses a Promise to block the python side on completion of each step,\n",
              "// then passes the result of the previous step as the input to the next step.\n",
              "function _uploadFilesContinue(outputId) {\n",
              "  const outputElement = document.getElementById(outputId);\n",
              "  const steps = outputElement.steps;\n",
              "\n",
              "  const next = steps.next(outputElement.lastPromiseValue);\n",
              "  return Promise.resolve(next.value.promise).then((value) => {\n",
              "    // Cache the last promise value to make it available to the next\n",
              "    // step of the generator.\n",
              "    outputElement.lastPromiseValue = value;\n",
              "    return next.value.response;\n",
              "  });\n",
              "}\n",
              "\n",
              "/**\n",
              " * Generator function which is called between each async step of the upload\n",
              " * process.\n",
              " * @param {string} inputId Element ID of the input file picker element.\n",
              " * @param {string} outputId Element ID of the output display.\n",
              " * @return {!Iterable<!Object>} Iterable of next steps.\n",
              " */\n",
              "function* uploadFilesStep(inputId, outputId) {\n",
              "  const inputElement = document.getElementById(inputId);\n",
              "  inputElement.disabled = false;\n",
              "\n",
              "  const outputElement = document.getElementById(outputId);\n",
              "  outputElement.innerHTML = '';\n",
              "\n",
              "  const pickedPromise = new Promise((resolve) => {\n",
              "    inputElement.addEventListener('change', (e) => {\n",
              "      resolve(e.target.files);\n",
              "    });\n",
              "  });\n",
              "\n",
              "  const cancel = document.createElement('button');\n",
              "  inputElement.parentElement.appendChild(cancel);\n",
              "  cancel.textContent = 'Cancel upload';\n",
              "  const cancelPromise = new Promise((resolve) => {\n",
              "    cancel.onclick = () => {\n",
              "      resolve(null);\n",
              "    };\n",
              "  });\n",
              "\n",
              "  // Wait for the user to pick the files.\n",
              "  const files = yield {\n",
              "    promise: Promise.race([pickedPromise, cancelPromise]),\n",
              "    response: {\n",
              "      action: 'starting',\n",
              "    }\n",
              "  };\n",
              "\n",
              "  cancel.remove();\n",
              "\n",
              "  // Disable the input element since further picks are not allowed.\n",
              "  inputElement.disabled = true;\n",
              "\n",
              "  if (!files) {\n",
              "    return {\n",
              "      response: {\n",
              "        action: 'complete',\n",
              "      }\n",
              "    };\n",
              "  }\n",
              "\n",
              "  for (const file of files) {\n",
              "    const li = document.createElement('li');\n",
              "    li.append(span(file.name, {fontWeight: 'bold'}));\n",
              "    li.append(span(\n",
              "        `(${file.type || 'n/a'}) - ${file.size} bytes, ` +\n",
              "        `last modified: ${\n",
              "            file.lastModifiedDate ? file.lastModifiedDate.toLocaleDateString() :\n",
              "                                    'n/a'} - `));\n",
              "    const percent = span('0% done');\n",
              "    li.appendChild(percent);\n",
              "\n",
              "    outputElement.appendChild(li);\n",
              "\n",
              "    const fileDataPromise = new Promise((resolve) => {\n",
              "      const reader = new FileReader();\n",
              "      reader.onload = (e) => {\n",
              "        resolve(e.target.result);\n",
              "      };\n",
              "      reader.readAsArrayBuffer(file);\n",
              "    });\n",
              "    // Wait for the data to be ready.\n",
              "    let fileData = yield {\n",
              "      promise: fileDataPromise,\n",
              "      response: {\n",
              "        action: 'continue',\n",
              "      }\n",
              "    };\n",
              "\n",
              "    // Use a chunked sending to avoid message size limits. See b/62115660.\n",
              "    let position = 0;\n",
              "    do {\n",
              "      const length = Math.min(fileData.byteLength - position, MAX_PAYLOAD_SIZE);\n",
              "      const chunk = new Uint8Array(fileData, position, length);\n",
              "      position += length;\n",
              "\n",
              "      const base64 = btoa(String.fromCharCode.apply(null, chunk));\n",
              "      yield {\n",
              "        response: {\n",
              "          action: 'append',\n",
              "          file: file.name,\n",
              "          data: base64,\n",
              "        },\n",
              "      };\n",
              "\n",
              "      let percentDone = fileData.byteLength === 0 ?\n",
              "          100 :\n",
              "          Math.round((position / fileData.byteLength) * 100);\n",
              "      percent.textContent = `${percentDone}% done`;\n",
              "\n",
              "    } while (position < fileData.byteLength);\n",
              "  }\n",
              "\n",
              "  // All done.\n",
              "  yield {\n",
              "    response: {\n",
              "      action: 'complete',\n",
              "    }\n",
              "  };\n",
              "}\n",
              "\n",
              "scope.google = scope.google || {};\n",
              "scope.google.colab = scope.google.colab || {};\n",
              "scope.google.colab._files = {\n",
              "  _uploadFiles,\n",
              "  _uploadFilesContinue,\n",
              "};\n",
              "})(self);\n",
              "</script> "
            ]
          },
          "metadata": {}
        },
        {
          "output_type": "stream",
          "name": "stdout",
          "text": [
            "Saving trial 1.csv to trial 1.csv\n"
          ]
        }
      ]
    },
    {
      "cell_type": "code",
      "source": [
        "data = np.loadtxt('trial 1.csv')"
      ],
      "metadata": {
        "id": "97cERFk3vrsL"
      },
      "execution_count": 6,
      "outputs": []
    },
    {
      "cell_type": "code",
      "source": [
        "print(data)"
      ],
      "metadata": {
        "colab": {
          "base_uri": "https://localhost:8080/"
        },
        "id": "Zh0vR-aWw9sv",
        "outputId": "f27366b0-a799-4f87-b780-661dd75bde71"
      },
      "execution_count": 7,
      "outputs": [
        {
          "output_type": "stream",
          "name": "stdout",
          "text": [
            "[ 580. 7940. 2240. ...  980.  160. 4600.]\n"
          ]
        }
      ]
    },
    {
      "cell_type": "code",
      "source": [
        "plt.figure(1,figsize=(20,10))\n",
        "#plt.hist(data/1000,bins=20,range=(0,20))\n",
        "plt.xticks(np.linspace(0,20,21))\n",
        "bins,edges,bars = plt.hist(data/1000,bins=20,range=(0,20))\n",
        "plt.bar_label(bars)\n",
        "modelline = model(bincenters,*param)\n",
        "plt.plot(bincenters,modelline)\n",
        "plt.show(1)"
      ],
      "metadata": {
        "colab": {
          "base_uri": "https://localhost:8080/",
          "height": 644
        },
        "id": "OWVL4Eo5w_jA",
        "outputId": "833fd7cb-6ba7-4aa3-c53f-5167d56887e5"
      },
      "execution_count": 72,
      "outputs": [
        {
          "output_type": "display_data",
          "data": {
            "text/plain": [
              "<Figure size 2000x1000 with 1 Axes>"
            ],
            "image/png": "[encoded data removed]"
          },
          "metadata": {}
        }
      ]
    },
    {
      "cell_type": "code",
      "source": [
        "print(bins)"
      ],
      "metadata": {
        "colab": {
          "base_uri": "https://localhost:8080/"
        },
        "id": "6ktaz_b3zZRJ",
        "outputId": "cf0513c0-ff7b-4408-f549-b461d2e7aeea"
      },
      "execution_count": 17,
      "outputs": [
        {
          "output_type": "stream",
          "name": "stdout",
          "text": [
            "[2841. 1987. 1207.  735.  472.  306.  186.  130.   78.   47.   49.   32.\n",
            "   20.   19.   10.   11.   13.   10.    7.    9.]\n"
          ]
        }
      ]
    },
    {
      "cell_type": "code",
      "source": [
        "print(edges)"
      ],
      "metadata": {
        "colab": {
          "base_uri": "https://localhost:8080/"
        },
        "id": "2bRocLqw3sVg",
        "outputId": "f6325bb7-4cea-4d18-ab48-632a56b91c01"
      },
      "execution_count": 18,
      "outputs": [
        {
          "output_type": "stream",
          "name": "stdout",
          "text": [
            "[ 0.  1.  2.  3.  4.  5.  6.  7.  8.  9. 10. 11. 12. 13. 14. 15. 16. 17.\n",
            " 18. 19. 20.]\n"
          ]
        }
      ]
    },
    {
      "cell_type": "code",
      "source": [
        "bincenters = (edges[1:]+edges[:-1])/2\n",
        "print(bincenters)"
      ],
      "metadata": {
        "colab": {
          "base_uri": "https://localhost:8080/"
        },
        "id": "yZL3rr7Y7ZYV",
        "outputId": "b7a3b44d-6b40-43c7-f063-eabcfd98827e"
      },
      "execution_count": 61,
      "outputs": [
        {
          "output_type": "stream",
          "name": "stdout",
          "text": [
            "[ 0.5  1.5  2.5  3.5  4.5  5.5  6.5  7.5  8.5  9.5 10.5 11.5 12.5 13.5\n",
            " 14.5 15.5 16.5 17.5 18.5 19.5]\n"
          ]
        }
      ]
    },
    {
      "cell_type": "markdown",
      "source": [
        "Here we are testing the method outlined in the lab manual to obtain a value for $χ^2$"
      ],
      "metadata": {
        "id": "AsBrEQ82MChb"
      }
    },
    {
      "cell_type": "code",
      "source": [
        "## This function will be used to compute A, B, and X**2 for a range of set tau values, and return the minimum value of X**2\n",
        "\n",
        "def get_chi2(tau_initial,tau_final,width):\n",
        "  N = len(edges)-1\n",
        "  alpha = np.sum(bins)\n",
        "  beta = 0\n",
        "  gamma = np.sum(1/bins)\n",
        "  delta = 0\n",
        "  lam = 0\n",
        "  A = 0\n",
        "  B = 0\n",
        "  chi = 10000\n",
        "  stepsize = (tau_final-tau_initial)/width\n",
        "  tau = tau_initial\n",
        "  for i in range(width):\n",
        "    beta_array = np.exp(-1*bincenters/tau)\n",
        "    beta = np.sum(beta_array)\n",
        "    #print(beta_array,beta)\n",
        "    delta_array = beta_array/bins\n",
        "    delta = np.sum(delta_array)\n",
        "    lam_array = np.exp(-2*bincenters/tau)/bincenters\n",
        "    lam = np.sum(lam_array)\n",
        "    test_A = (beta*gamma-N*delta)/(lam*gamma-delta**2)\n",
        "    test_B = (N*lam-beta*delta)/(lam*gamma-delta**2)\n",
        "    test_chi = lam*test_A**2 + 2*delta*test_A*test_B + gamma*test_B**2 - 2*beta*test_A - 2*N*test_B + alpha\n",
        "    #print(test_A,test_B,test_chi)\n",
        "    if test_chi < chi:\n",
        "      chi = test_chi\n",
        "      A = test_A\n",
        "      B = test_B\n",
        "      tau_final = tau\n",
        "    tau = tau + stepsize\n",
        "  print(\"A = {0}, B = {1}, Chi squared = {2}, Tau = {3}\".format(A,B,chi,tau_final))\n",
        "  return (A,B,chi,tau_final)\n"
      ],
      "metadata": {
        "id": "Owo4ncZK3u-P"
      },
      "execution_count": 62,
      "outputs": []
    },
    {
      "cell_type": "code",
      "source": [
        "get_chi2(0.1,10,1000)"
      ],
      "metadata": {
        "colab": {
          "base_uri": "https://localhost:8080/"
        },
        "id": "40iyfaWfBskr",
        "outputId": "9b34716f-6cbb-4781-b993-f751de09b2ee"
      },
      "execution_count": 63,
      "outputs": [
        {
          "output_type": "stream",
          "name": "stdout",
          "text": [
            "A = 1.5942499441440467, B = 23.861350519781038, Chi squared = 7681.4111117651355, Tau = 6.881500000000012\n"
          ]
        },
        {
          "output_type": "execute_result",
          "data": {
            "text/plain": [
              "(1.5942499441440467, 23.861350519781038, 7681.4111117651355, 6.881500000000012)"
            ]
          },
          "metadata": {},
          "execution_count": 63
        }
      ]
    },
    {
      "cell_type": "markdown",
      "source": [
        "We will compare this to python implemented fitting methods."
      ],
      "metadata": {
        "id": "MHlFbHUqMRTM"
      }
    },
    {
      "cell_type": "code",
      "source": [
        "import scipy.special as sp\n",
        "import scipy.optimize\n",
        "import scipy.stats as stat"
      ],
      "metadata": {
        "id": "A6KtSnr5CBQ5"
      },
      "execution_count": 64,
      "outputs": []
    },
    {
      "cell_type": "code",
      "source": [
        "def model(x,A,B,Tau):\n",
        "  return A*np.exp(-1*x/Tau)+B"
      ],
      "metadata": {
        "id": "0kHkuCdBMf5A"
      },
      "execution_count": 65,
      "outputs": []
    },
    {
      "cell_type": "code",
      "source": [
        "param,covar = scipy.optimize.curve_fit(model,bincenters,bins)"
      ],
      "metadata": {
        "id": "PizE9t6pOFei"
      },
      "execution_count": 66,
      "outputs": []
    },
    {
      "cell_type": "code",
      "source": [
        "#copy and pasted to plot above\n",
        "modelline = model(bincenters,*param)\n",
        "plt.plot(bincenters,modelline)\n",
        "plt.show(1)"
      ],
      "metadata": {
        "id": "19aQ40ODPQLC"
      },
      "execution_count": 71,
      "outputs": []
    },
    {
      "cell_type": "code",
      "source": [],
      "metadata": {
        "id": "sHl3aWkIPvX0"
      },
      "execution_count": null,
      "outputs": []
    }
  ]
}