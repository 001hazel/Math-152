{
  "nbformat": 4,
  "nbformat_minor": 0,
  "metadata": {
    "colab": {
      "provenance": [],
      "authorship_tag": "ABX9TyOMwQ+aQr5OXEkzdASyK0WP",
      "include_colab_link": true
    },
    "kernelspec": {
      "name": "python3",
      "display_name": "Python 3"
    },
    "language_info": {
      "name": "python"
    }
  },
  "cells": [
    {
      "cell_type": "markdown",
      "metadata": {
        "id": "view-in-github",
        "colab_type": "text"
      },
      "source": [
        "<a href=\"https://colab.research.google.com/github/001hazel/Math-152/blob/main/Exploration2.ipynb\" target=\"_parent\"><img src=\"https://colab.research.google.com/assets/colab-badge.svg\" alt=\"Open In Colab\"/></a>"
      ]
    },
    {
      "cell_type": "markdown",
      "source": [
        "# Exploration 2\n",
        "## Newton's Method and Basin's of Attraction\n",
        "\n",
        "Newton's method is used to approximate the roots of a function. When iterated under certain conditions, it can very accurately approximate the root. The method follows the form of:\n",
        "\n",
        "$$\n",
        "x_{n+1}=x_n + \\frac{f(x_n)}{f'(x_n)}\n",
        "$$\n",
        "\n",
        "For this exploration we will be working with the cubic function:\n",
        "\n",
        "$$\n",
        "x^3-x^4+2x-4\n",
        "$$\n",
        "\n",
        "which has 1 real root and 2 complex roots at $x=1$, $2i$, and $-2i$.\n",
        "\n"
      ],
      "metadata": {
        "id": "GsWgoZ49B6Ie"
      }
    },
    {
      "cell_type": "code",
      "execution_count": 2,
      "metadata": {
        "id": "4fAymae6B1fZ"
      },
      "outputs": [],
      "source": [
        "import numpy as np\n",
        "import matplotlib.pyplot as plt\n",
        "from PIL import Image"
      ]
    },
    {
      "cell_type": "code",
      "source": [
        "## Here we create the range of complex numbers which we will be choosing as our starting points\n",
        "re_array = np.linspace(-4,4,600)\n",
        "im_array = np.linspace(-4,4,600)\n",
        "z_array = np.add.outer(re_array,im_array*1j)\n"
      ],
      "metadata": {
        "id": "zFCwCdeDGPbE"
      },
      "execution_count": 70,
      "outputs": []
    },
    {
      "cell_type": "code",
      "source": [
        "# creating a functions for f_x and df_x\n",
        "def f_x(x):\n",
        "  f_x = (x**3)-(x**2)+(4*x)-4\n",
        "  return f_x\n",
        "def df_x(x):\n",
        "  df_x = (3*x**2)-(2*x)+4\n",
        "  return df_x\n",
        "\n",
        "# implement newtons method for 100 iterrations\n",
        "def newton(iter = 100):\n",
        "  z  = z_array\n",
        "  steps  = np.full(z_array.shape,0) #keep track of iterations\n",
        "  for i in range(iter):\n",
        "    f_z = f_x(z) #find f of z and f prime of z\n",
        "    df_z = df_x(z)\n",
        "    z = z - ((f_z)/(df_z)) #apply newtons method\n",
        "    step_count = (np.abs(f_z) > 0.2)\n",
        "    steps = steps + (step_count)\n",
        "  return z, steps\n",
        "  "
      ],
      "metadata": {
        "id": "iZcg8BUmIVNS"
      },
      "execution_count": 71,
      "outputs": []
    },
    {
      "cell_type": "code",
      "source": [
        "root,stepcount = newton()"
      ],
      "metadata": {
        "id": "nfL6pRF1PRVM"
      },
      "execution_count": 72,
      "outputs": []
    },
    {
      "cell_type": "code",
      "source": [
        "# creating the PIL image to show the basins of convergence for each root\n",
        "pixels = np.zeros((z_array.shape[0],z_array.shape[1],3))\n",
        "group_1 = root - 1 # seperating the 3 basins\n",
        "pixels[:,:,0] = (np.abs(group_1) < 0.2) # red represents converging to 1\n",
        "group_2j = root - 2j\n",
        "pixels[:,:,1] = (np.abs(group_2j) < 0.2) # green represents converging to 2j\n",
        "group_m2j = root + 2j\n",
        "pixels[:,:,2] = (np.abs(group_m2j) < 0.2) # blue represenest converging to -2j\n",
        "pixels = np.clip(pixels,0,255)*255\n",
        "\n"
      ],
      "metadata": {
        "id": "AngCspgPPe-f"
      },
      "execution_count": 75,
      "outputs": []
    },
    {
      "cell_type": "code",
      "source": [
        "img = Image.fromarray(pixels.astype(np.uint8))\n",
        "display(img)"
      ],
      "metadata": {
        "colab": {
          "base_uri": "https://localhost:8080/",
          "height": 617
        },
        "id": "2EwK0CnPj4tF",
        "outputId": "6c2b39cf-564f-40fa-ccfe-a2293756cbba"
      },
      "execution_count": 74,
      "outputs": [
        {
          "output_type": "display_data",
          "data": {
            "text/plain": [
              "<PIL.Image.Image image mode=RGB size=600x600 at 0x7F9A6AF4BB50>"
            ],
            "image/png": "[encoded data removed]"
          },
          "metadata": {}
        }
      ]
    },
    {
      "cell_type": "markdown",
      "source": [
        "### Image of the Basins of Convergence\n",
        "\n",
        "Here we can visualize the different basins of convergence for our polynomial.\n",
        "Red represents numbers which converge to $1$. Blue represents numbers which converge to $2i$. Greeen represents the numbers which converge to $-2i$."
      ],
      "metadata": {
        "id": "wmGhP6gPPQRo"
      }
    },
    {
      "cell_type": "code",
      "source": [
        "# visualizing the rates of convergence in matplotlib\n",
        "plt.figure(figsize = (6,6))\n",
        "x_values = np.linspace(-4,4,600)\n",
        "conv_reals = np.zeros(600)\n",
        "conv_reals = stepcount[300,:]\n",
        "conv_imag = np.zeros(600)\n",
        "conv_imag = stepcount[:,300]\n",
        "plt.plot(x_values,conv_reals,label = 'Imaginary Axis', c = 'b')\n",
        "plt.plot(x_values,conv_imag,label = 'Real Axis', c = 'r')\n",
        "plt.legend()\n",
        "plt.title(\"Speed of Convergence of Newton's Method along the Real and Imaginary axes\")\n",
        "plt.xlabel('Value of X')\n",
        "plt.ylabel('Number of Iterations')\n",
        "plt.ylim(0,15)\n",
        "plt.show()"
      ],
      "metadata": {
        "colab": {
          "base_uri": "https://localhost:8080/",
          "height": 404
        },
        "id": "-aOIlqpekFQi",
        "outputId": "bc7a48af-2f50-4fdf-b360-d39ef696f584"
      },
      "execution_count": 94,
      "outputs": [
        {
          "output_type": "display_data",
          "data": {
            "text/plain": [
              "<Figure size 432x432 with 1 Axes>"
            ],
            "image/png": "[encoded data removed]"
          },
          "metadata": {
            "needs_background": "light"
          }
        }
      ]
    },
    {
      "cell_type": "markdown",
      "source": [
        "## Graph of The Rates of Convergence\n",
        "Here we see the number of iterations it took to be withing $0.2$ of a root of $f(x)$. We look at two slices of the complex plane, along the Real Axis and along the Imaginary Axis. Following these trend lines we see minima at the known values of the roots of $f$; $1$, $2i$, and $-2i$. We also notice areas which the graph spikes in certain poinits, which indicate nearing a starting value which does not converge for Newton's Method."
      ],
      "metadata": {
        "id": "-mo25_z9Tfxz"
      }
    },
    {
      "cell_type": "code",
      "source": [],
      "metadata": {
        "id": "Bxx2QcJRR1-t"
      },
      "execution_count": null,
      "outputs": []
    }
  ]
}