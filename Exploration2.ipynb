{
  "nbformat": 4,
  "nbformat_minor": 0,
  "metadata": {
    "colab": {
      "provenance": [],
      "authorship_tag": "ABX9TyNfu4lKJw3ghOcB1zX7A1Jn",
      "include_colab_link": true
    },
    "kernelspec": {
      "name": "python3",
      "display_name": "Python 3"
    },
    "language_info": {
      "name": "python"
    }
  },
  "cells": [
    {
      "cell_type": "markdown",
      "metadata": {
        "id": "view-in-github",
        "colab_type": "text"
      },
      "source": [
        "<a href=\"https://colab.research.google.com/github/001hazel/Math-152/blob/main/Exploration2.ipynb\" target=\"_parent\"><img src=\"https://colab.research.google.com/assets/colab-badge.svg\" alt=\"Open In Colab\"/></a>"
      ]
    },
    {
      "cell_type": "markdown",
      "source": [
        "# Exploration 2\n",
        "## Newton's Method and Basin's of Attraction\n",
        "\n",
        "Newton's method is used to approximate the roots of a function. When iterated under certain conditions, it can very accurately approximate the root. The method follows the form of:\n",
        "\n",
        "$$\n",
        "x_{n+1}=x_n + \\frac{f(x_n)}{f'(x_n)}\n",
        "$$\n",
        "\n",
        "For this exploration we will be working with the cubic function:\n",
        "\n",
        "$$\n",
        "x^3-x^4+2x-4\n",
        "$$\n",
        "\n",
        "which has 1 real root and 2 complex roots at $x=1$, $2i$, and $-2i$.\n",
        "\n"
      ],
      "metadata": {
        "id": "GsWgoZ49B6Ie"
      }
    },
    {
      "cell_type": "code",
      "execution_count": 2,
      "metadata": {
        "id": "4fAymae6B1fZ"
      },
      "outputs": [],
      "source": [
        "import numpy as np\n",
        "import matplotlib.pyplot as plt\n",
        "from PIL import Image"
      ]
    },
    {
      "cell_type": "code",
      "source": [
        "## Here we create the range of complex numbers which we will be choosing as our starting points\n",
        "re_array = np.linspace(-2,2,400)\n",
        "im_array = np.linspace(-3,3,600)\n",
        "z_array = np.add.outer(re_array,im_array*1j)\n"
      ],
      "metadata": {
        "id": "zFCwCdeDGPbE"
      },
      "execution_count": 58,
      "outputs": []
    },
    {
      "cell_type": "code",
      "source": [
        "# creating a functions for f_x and df_x\n",
        "def f_x(x):\n",
        "  f_x = (x**3)-(x**2)+(4*x)-4\n",
        "  return f_x\n",
        "def df_x(x):\n",
        "  df_x = (3*x**2)-(2*x)+4\n",
        "  return df_x\n",
        "\n",
        "# implement newtons method for 100 iterrations\n",
        "def newton(iter = 100):\n",
        "  z  = z_array\n",
        "  steps  = np.full(z_array.shape,0) #keep track of iterations\n",
        "  for i in range(iter):\n",
        "    f_z = f_x(z) #find f of z and f prime of z\n",
        "    df_z = df_x(z)\n",
        "    z = z - ((f_z)/(df_z)) #apply newtons method\n",
        "    step_count = (np.abs(f_z) > 0.2)\n",
        "    steps = steps + (step_count)\n",
        "  return z, steps\n",
        "  "
      ],
      "metadata": {
        "id": "iZcg8BUmIVNS"
      },
      "execution_count": 59,
      "outputs": []
    },
    {
      "cell_type": "code",
      "source": [
        "root,stepcount = newton()"
      ],
      "metadata": {
        "id": "nfL6pRF1PRVM"
      },
      "execution_count": 60,
      "outputs": []
    },
    {
      "cell_type": "code",
      "source": [
        "# creating the PIL image to show the basins of convergence for each root\n",
        "print(root)"
      ],
      "metadata": {
        "colab": {
          "base_uri": "https://localhost:8080/"
        },
        "id": "AngCspgPPe-f",
        "outputId": "158fa0e4-f561-4623-99fa-a72d9b704eb0"
      },
      "execution_count": 61,
      "outputs": [
        {
          "output_type": "stream",
          "name": "stdout",
          "text": [
            "[[-1.21118925e-17-2.j -1.96735334e-17-2.j -3.11379209e-17-2.j ...\n",
            "  -3.11379209e-17+2.j -1.96735334e-17+2.j -1.21118925e-17+2.j]\n",
            " [-1.30518582e-17-2.j  6.28041678e-18-2.j -8.03658140e-18-2.j ...\n",
            "  -8.03658140e-18+2.j  6.28041678e-18+2.j -1.30518582e-17+2.j]\n",
            " [-2.20692597e-17-2.j  1.15830612e-17-2.j -1.72406341e-17-2.j ...\n",
            "  -1.72406341e-17+2.j  1.15830612e-17+2.j -2.20692597e-17+2.j]\n",
            " ...\n",
            " [-2.47485502e-17-2.j -3.36519638e-17-2.j -8.39098533e-18-2.j ...\n",
            "  -8.39098533e-18+2.j -3.36519638e-17+2.j -2.47485502e-17+2.j]\n",
            " [ 3.11895202e-18-2.j -2.22282524e-17-2.j -1.17301161e-17-2.j ...\n",
            "  -1.17301161e-17+2.j -2.22282524e-17+2.j  3.11895202e-18+2.j]\n",
            " [ 6.48266399e-18-2.j -1.22907273e-18-2.j -1.51254327e-17-2.j ...\n",
            "  -1.51254327e-17+2.j -1.22907273e-18+2.j  6.48266399e-18+2.j]]\n"
          ]
        }
      ]
    },
    {
      "cell_type": "code",
      "source": [
        "img = Image.fromarray(pixels.astype(np.uint8))\n",
        "display(img)"
      ],
      "metadata": {
        "colab": {
          "base_uri": "https://localhost:8080/",
          "height": 617
        },
        "id": "2EwK0CnPj4tF",
        "outputId": "0fab0205-714b-464c-ee40-0fdb8b1e5c00"
      },
      "execution_count": 22,
      "outputs": [
        {
          "output_type": "display_data",
          "data": {
            "text/plain": [
              "<PIL.Image.Image image mode=RGB size=900x600 at 0x7F9A6B084700>"
            ],
            "image/png": "[encoded data removed]"
          },
          "metadata": {}
        }
      ]
    },
    {
      "cell_type": "code",
      "source": [],
      "metadata": {
        "id": "-aOIlqpekFQi"
      },
      "execution_count": null,
      "outputs": []
    }
  ]
}