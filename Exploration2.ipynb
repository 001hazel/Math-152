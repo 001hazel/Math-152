{
  "nbformat": 4,
  "nbformat_minor": 0,
  "metadata": {
    "colab": {
      "provenance": [],
      "authorship_tag": "ABX9TyPbrA7quvRFBwEUhqLdog0P",
      "include_colab_link": true
    },
    "kernelspec": {
      "name": "python3",
      "display_name": "Python 3"
    },
    "language_info": {
      "name": "python"
    }
  },
  "cells": [
    {
      "cell_type": "markdown",
      "metadata": {
        "id": "view-in-github",
        "colab_type": "text"
      },
      "source": [
        "<a href=\"https://colab.research.google.com/github/001hazel/Math-152/blob/main/Exploration2.ipynb\" target=\"_parent\"><img src=\"https://colab.research.google.com/assets/colab-badge.svg\" alt=\"Open In Colab\"/></a>"
      ]
    },
    {
      "cell_type": "markdown",
      "source": [
        "# Exploration 2\n",
        "## Newton's Method and Basin's of Attraction\n",
        "\n",
        "Newton's method is used to approximate the roots of a function. When iterated under certain conditions, it can very accurately approximate the root. The method follows the form of:\n",
        "\n",
        "$$\n",
        "x_{n+1}=x_n + \\frac{f(x_n)}{f'(x_n)}\n",
        "$$\n",
        "\n",
        "For this exploration we will be working with the cubic function:\n",
        "\n",
        "$$\n",
        "x^3-x^4+2x-4\n",
        "$$\n",
        "\n",
        "which has 1 real root and 2 complex roots at $x=1$, $2i$, and $-2i$.\n",
        "\n"
      ],
      "metadata": {
        "id": "GsWgoZ49B6Ie"
      }
    },
    {
      "cell_type": "code",
      "execution_count": 2,
      "metadata": {
        "id": "4fAymae6B1fZ"
      },
      "outputs": [],
      "source": [
        "import numpy as np\n",
        "import matplotlib.pyplot as plt\n",
        "from PIL import Image"
      ]
    },
    {
      "cell_type": "code",
      "source": [
        "## Here we create the range of complex numbers which we will be choosing as our starting points\n",
        "re_array = np.linspace(-2,2,600)\n",
        "im_array = np.linspace(-3,3,900)\n",
        "z_array = np.add.outer(re_array,im_array*1j)\n"
      ],
      "metadata": {
        "id": "zFCwCdeDGPbE"
      },
      "execution_count": 8,
      "outputs": []
    },
    {
      "cell_type": "code",
      "source": [
        "# Now we apply Newton's method to the array of values\n",
        "\n",
        "def newton(iter = 100):\n",
        "  #Create arrays to store the root arrived at, as well as the number of iterations used to reach the root\n",
        "  z = z_array\n",
        "  steps = np.zeros(z_array.shape)\n",
        "  for i in range(iter):\n",
        "    f_z = z**3-z**2+4*z-4 #Setting f of z and f prime of z\n",
        "    fp_z = 3*(z**2)-2*z+4\n",
        "    z = z+(f_z/fp_z) # applying ewton's method\n",
        "    check_1 = (z != 1) #checking if a root has been reached\n",
        "    check_2j = (z != 2j)\n",
        "    check_m2j = (z != -2j)\n",
        "    incr_step = check_1 + check_2j + check_m2j\n",
        "    steps = steps + incr_step/3\n",
        "  return z,steps\n"
      ],
      "metadata": {
        "id": "iZcg8BUmIVNS"
      },
      "execution_count": 17,
      "outputs": []
    },
    {
      "cell_type": "code",
      "source": [
        "root,stepcount = newton()"
      ],
      "metadata": {
        "id": "nfL6pRF1PRVM"
      },
      "execution_count": 18,
      "outputs": []
    },
    {
      "cell_type": "code",
      "source": [],
      "metadata": {
        "id": "AngCspgPPe-f"
      },
      "execution_count": null,
      "outputs": []
    }
  ]
}